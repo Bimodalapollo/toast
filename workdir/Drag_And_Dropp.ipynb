{
 "cells": [
  {
   "cell_type": "code",
   "execution_count": null,
   "metadata": {},
   "outputs": [],
   "source": [
    "import streamlit as st\n",
    "import google.generativeai as genai\n",
    "from pdf2image import convert_from_bytes\n",
    "from PIL import Image\n",
    "import io\n",
    "\n",
    "# ✅ Configure Gemini API\n",
    "genai.configure(api_key=\"your-gemini-api-key\")\n",
    "model = genai.GenerativeModel(\"gemini-1.5-pro\")\n",
    "\n",
    "# ✅ Streamlit UI: Drag & Drop PDF\n",
    "st.title(\"📄 Drag & Drop Scanned PDF for Gemini Analysis\")\n",
    "uploaded_file = st.file_uploader(\"Drop an image-based (scanned) PDF here\", type=\"pdf\")\n",
    "\n",
    "if uploaded_file:\n",
    "    st.success(\"✅ File uploaded successfully!\")\n",
    "    \n",
    "    # ✅ Convert PDF to images\n",
    "    pdf_bytes = uploaded_file.read()\n",
    "    images = convert_from_bytes(pdf_bytes, dpi=200)\n",
    "\n",
    "    st.write(f\"📷 Converted PDF into {len(images)} images.\")\n",
    "    \n",
    "    image_responses = []\n",
    "    \n",
    "    for i, img in enumerate(images[:3]):  # Process first 3 pages\n",
    "        response = model.generate_content([\"Describe this scanned document in detail for a medical student:\", img])\n",
    "        image_responses.append(response.text)\n",
    "\n",
    "        # ✅ Show images & responses\n",
    "        st.image(img, caption=f\"Page {i+1}\")\n",
    "        st.write(response.text)\n"
   ]
  }
 ],
 "metadata": {
  "language_info": {
   "name": "python"
  }
 },
 "nbformat": 4,
 "nbformat_minor": 2
}
