{
 "cells": [
  {
   "cell_type": "code",
   "execution_count": 4,
   "metadata": {},
   "outputs": [],
   "source": [
    "import os\n",
    "import shutil"
   ]
  },
  {
   "cell_type": "code",
   "execution_count": 8,
   "metadata": {},
   "outputs": [],
   "source": [
    "# Set the path to your local Git repository\n",
    "repo_path = \"C:\\\\voodo_dolog\\\\toast\\outputs\"\n",
    "\n",
    "# Define new directory name\n",
    "new_dir = os.path.join(repo_path, \"folder\")\n",
    "os.makedirs(new_dir, exist_ok=True)  # Create new directory\n",
    "\n",
    "# Create a file inside so Git tracks it\n",
    "file_path = os.path.join(new_dir, \"README.md\")\n",
    "with open(file_path, \"w\") as f:\n",
    "    f.write(\"# This is a new folder\\n\")\n"
   ]
  }
 ],
 "metadata": {
  "kernelspec": {
   "display_name": "Python 3",
   "language": "python",
   "name": "python3"
  },
  "language_info": {
   "codemirror_mode": {
    "name": "ipython",
    "version": 3
   },
   "file_extension": ".py",
   "mimetype": "text/x-python",
   "name": "python",
   "nbconvert_exporter": "python",
   "pygments_lexer": "ipython3",
   "version": "3.11.0"
  }
 },
 "nbformat": 4,
 "nbformat_minor": 2
}
