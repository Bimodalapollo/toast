{
 "cells": [
  {
   "cell_type": "code",
   "execution_count": 2,
   "metadata": {},
   "outputs": [],
   "source": [
    "import glob as g\n",
    "\n",
    "# Get all the files in the current directory\n",
    "files = g.glob(\"inputs/*/*/*.pdf\")\n",
    "files\n",
    "\n",
    "anat = []\n",
    "\n",
    "for f in files:\n",
    "    if \"Gastro\" in f:\n",
    "        anat.append(f)\n",
    "\n",
    "\n",
    "        "
   ]
  },
  {
   "cell_type": "code",
   "execution_count": null,
   "metadata": {},
   "outputs": [],
   "source": [

    

    "import os"

   ]
  },
  {
   "cell_type": "code",
   "execution_count": 7,
   "metadata": {},
   "outputs": [
    {
     "name": "stdout",
     "output_type": "stream",
     "text": [
      "['inputs\\\\Gastrointestinal & Liver💩\\\\Gastrointestinal & Liver💩 - Colon\\\\Copy of lecturehandouts_Intestines and Colon.pdf', 'inputs\\\\Gastrointestinal & Liver💩\\\\Gastrointestinal & Liver💩 - Colon\\\\Copy of lectureslides_Colon and review.pdf', 'inputs\\\\Gastrointestinal & Liver💩\\\\Gastrointestinal & Liver💩 - Colon\\\\Copy of lectureslides_The digestive tract ecosystem.pdf', 'inputs\\\\Gastrointestinal & Liver💩\\\\Gastrointestinal & Liver💩 - Esophagus\\\\Copy of lecturehandouts_Salivary Glands and Esophaugs.pdf', 'inputs\\\\Gastrointestinal & Liver💩\\\\Gastrointestinal & Liver💩 - Esophagus\\\\Copy of lectureslides_Salivary glands, esophagus.pdf', 'inputs\\\\Gastrointestinal & Liver💩\\\\Gastrointestinal & Liver💩 - Esophagus\\\\Copy of studentnotes_Esophagus.pdf', 'inputs\\\\Gastrointestinal & Liver💩\\\\Gastrointestinal & Liver💩 - Esophagus\\\\Copy of studentnotes_Pharynx, Esophagus and Stomach.pdf', 'inputs\\\\Gastrointestinal & Liver💩\\\\Gastrointestinal & Liver💩 - Liver & Gallbladder\\\\Copy of lecturehandouts_Pancreas, Liver.pdf', 'inputs\\\\Gastrointestinal & Liver💩\\\\Gastrointestinal & Liver💩 - Liver & Gallbladder\\\\Copy of lectureslides_Histology- Liver, Pancreas and Gall Bladder.pdf', 'inputs\\\\Gastrointestinal & Liver💩\\\\Gastrointestinal & Liver💩 - Liver & Gallbladder\\\\Copy of lectureslides_Liver.pdf', 'inputs\\\\Gastrointestinal & Liver💩\\\\Gastrointestinal & Liver💩 - Liver & Gallbladder\\\\Copy of studentnotes_Duodenum, Pancreas, Liver and Gall Bladder.pdf', 'inputs\\\\Gastrointestinal & Liver💩\\\\Gastrointestinal & Liver💩 - Liver & Gallbladder\\\\Copy of studentnotes_Liver, Pancreas and Gallbladder.pdf', 'inputs\\\\Gastrointestinal & Liver💩\\\\Gastrointestinal & Liver💩 - Liver & Gallbladder\\\\Copy of studentnotes_Liver.pdf', 'inputs\\\\Gastrointestinal & Liver💩\\\\Gastrointestinal & Liver💩 - Oral Cavity and Salivary Glands\\\\Copy of GI intro.pdf', 'inputs\\\\Gastrointestinal & Liver💩\\\\Gastrointestinal & Liver💩 - Oral Cavity and Salivary Glands\\\\Copy of Histo reviews and lookalikes.pdf', 'inputs\\\\Gastrointestinal & Liver💩\\\\Gastrointestinal & Liver💩 - Oral Cavity and Salivary Glands\\\\Copy of lectureslides_Histology- Oral cavity and salivary glands.pdf', 'inputs\\\\Gastrointestinal & Liver💩\\\\Gastrointestinal & Liver💩 - Oral Cavity and Salivary Glands\\\\Copy of lectureslides_Salivary glands, esophagus.pdf', 'inputs\\\\Gastrointestinal & Liver💩\\\\Gastrointestinal & Liver💩 - Oral Cavity and Salivary Glands\\\\Copy of Lecture_handout_Salivary Glands and Esophaugs.pdf', 'inputs\\\\Gastrointestinal & Liver💩\\\\Gastrointestinal & Liver💩 - Oral Cavity and Salivary Glands\\\\Copy of studentnotes_Oral cavity and salivary glands.pdf', 'inputs\\\\Gastrointestinal & Liver💩\\\\Gastrointestinal & Liver💩 - Oral Cavity and Salivary Glands\\\\Copy of studentnotes_Salivary Gland.pdf', 'inputs\\\\Gastrointestinal & Liver💩\\\\Gastrointestinal & Liver💩 - Pancreas\\\\Copy of Duodenum, Pancreas, Liver and Gall Bladder.pdf', 'inputs\\\\Gastrointestinal & Liver💩\\\\Gastrointestinal & Liver💩 - Pancreas\\\\Copy of lecturehandouts_Pancreas, Liver.pdf', 'inputs\\\\Gastrointestinal & Liver💩\\\\Gastrointestinal & Liver💩 - Pancreas\\\\Copy of lectureslides_Histology- Liver, Pancreas and Gall Bladder.pdf', 'inputs\\\\Gastrointestinal & Liver💩\\\\Gastrointestinal & Liver💩 - Pancreas\\\\Copy of lectureslides_Pancreas.pdf', 'inputs\\\\Gastrointestinal & Liver💩\\\\Gastrointestinal & Liver💩 - Pancreas\\\\Copy of Liver, Pancreas and Gallbladder.pdf', 'inputs\\\\Gastrointestinal & Liver💩\\\\Gastrointestinal & Liver💩 - Pancreas\\\\Copy of Pancreas.pdf', 'inputs\\\\Gastrointestinal & Liver💩\\\\Gastrointestinal & Liver💩 - Small intestines\\\\Copy of lecturehandouts_Intestines and Colon.pdf', 'inputs\\\\Gastrointestinal & Liver💩\\\\Gastrointestinal & Liver💩 - Small intestines\\\\Copy of lecturehandouts_Micronutrients.pdf', 'inputs\\\\Gastrointestinal & Liver💩\\\\Gastrointestinal & Liver💩 - Small intestines\\\\Copy of lectureslides_Intestines.pdf', 'inputs\\\\Gastrointestinal & Liver💩\\\\Gastrointestinal & Liver💩 - Small intestines\\\\Copy of lectureslides_Micronutrients.pdf', 'inputs\\\\Gastrointestinal & Liver💩\\\\Gastrointestinal & Liver💩 - Small intestines\\\\Copy of lectureslides_The digestive tract ecosystem.pdf', 'inputs\\\\Gastrointestinal & Liver💩\\\\Gastrointestinal & Liver💩 - Small intestines\\\\Copy of lectureslides_Tubular GI tract, Small Intestines.pdf', 'inputs\\\\Gastrointestinal & Liver💩\\\\Gastrointestinal & Liver💩 - Small intestines\\\\Copy of studentnotes_Cholesterol.pdf', 'inputs\\\\Gastrointestinal & Liver💩\\\\Gastrointestinal & Liver💩 - Small intestines\\\\Copy of studentnotes_Dietery carbohydrates.pdf', 'inputs\\\\Gastrointestinal & Liver💩\\\\Gastrointestinal & Liver💩 - Small intestines\\\\Copy of studentnotes_Drug absorbtion and Distribution.pdf', 'inputs\\\\Gastrointestinal & Liver💩\\\\Gastrointestinal & Liver💩 - Small intestines\\\\Copy of studentnotes_Drug metabolism I.pdf', 'inputs\\\\Gastrointestinal & Liver💩\\\\Gastrointestinal & Liver💩 - Small intestines\\\\Copy of studentnotes_Drug metabolism II.pdf', 'inputs\\\\Gastrointestinal & Liver💩\\\\Gastrointestinal & Liver💩 - Small intestines\\\\Copy of studentnotes_Drug metabolism III.pdf', 'inputs\\\\Gastrointestinal & Liver💩\\\\Gastrointestinal & Liver💩 - Small intestines\\\\Copy of studentnotes_Duodenum, Pancreas, Liver and Gall Bladder.pdf', 'inputs\\\\Gastrointestinal & Liver💩\\\\Gastrointestinal & Liver💩 - Small intestines\\\\Copy of studentnotes_Fatty acids.pdf', 'inputs\\\\Gastrointestinal & Liver💩\\\\Gastrointestinal & Liver💩 - Small intestines\\\\Copy of studentnotes_Fatty acitds ctd.pdf', 'inputs\\\\Gastrointestinal & Liver💩\\\\Gastrointestinal & Liver💩 - Small intestines\\\\Copy of studentnotes_Gluconeogenesis.pdf', 'inputs\\\\Gastrointestinal & Liver💩\\\\Gastrointestinal & Liver💩 - Small intestines\\\\Copy of studentnotes_Glycogen storage diseases.pdf', 'inputs\\\\Gastrointestinal & Liver💩\\\\Gastrointestinal & Liver💩 - Small intestines\\\\Copy of studentnotes_Glycogen.pdf', 'inputs\\\\Gastrointestinal & Liver💩\\\\Gastrointestinal & Liver💩 - Small intestines\\\\Copy of studentnotes_Intestinal motility.pdf', 'inputs\\\\Gastrointestinal & Liver💩\\\\Gastrointestinal & Liver💩 - Small intestines\\\\Copy of studentnotes_Intestines.pdf', 'inputs\\\\Gastrointestinal & Liver💩\\\\Gastrointestinal & Liver💩 - Small intestines\\\\Copy of studentnotes_Lipoproteins.pdf', 'inputs\\\\Gastrointestinal & Liver💩\\\\Gastrointestinal & Liver💩 - Small intestines\\\\Copy of studentnotes_Micronutrients.pdf', 'inputs\\\\Gastrointestinal & Liver💩\\\\Gastrointestinal & Liver💩 - Small intestines\\\\Copy of studentnotes_Phospholipids.pdf', 'inputs\\\\Gastrointestinal & Liver💩\\\\Gastrointestinal & Liver💩 - Small intestines\\\\Copy of studentnotes_Small intestines.pdf', 'inputs\\\\Gastrointestinal & Liver💩\\\\Gastrointestinal & Liver💩 - Stomach\\\\Copy of lecturehandouts_Nerves and Hormones.pdf', 'inputs\\\\Gastrointestinal & Liver💩\\\\Gastrointestinal & Liver💩 - Stomach\\\\Copy of lecturehandouts_Stomach.pdf', 'inputs\\\\Gastrointestinal & Liver💩\\\\Gastrointestinal & Liver💩 - Stomach\\\\Copy of lectureslides_Nerves and hormones.pdf', 'inputs\\\\Gastrointestinal & Liver💩\\\\Gastrointestinal & Liver💩 - Stomach\\\\Copy of lectureslides_Stomach.pdf', 'inputs\\\\Gastrointestinal & Liver💩\\\\Gastrointestinal & Liver💩 - Stomach\\\\Copy of lectureslides_Tubular GI tract, Stomach.pdf', 'inputs\\\\Gastrointestinal & Liver💩\\\\Gastrointestinal & Liver💩 - Stomach\\\\Copy of studentnotes_Gastric motility.pdf', 'inputs\\\\Gastrointestinal & Liver💩\\\\Gastrointestinal & Liver💩 - Stomach\\\\Copy of studentnotes_Pharynx, Esophagus and Stomach.pdf', 'inputs\\\\Gastrointestinal & Liver💩\\\\Gastrointestinal & Liver💩 - Stomach\\\\Copy of studentnotes_Stomach and Spleen.pdf', 'inputs\\\\Gastrointestinal & Liver💩\\\\Gastrointestinal & Liver💩 - Stomach\\\\Copy of studentnotes_Stomach.pdf']\n"
     ]
    }
   ],
   "source": [
    "print(anat)"
   ]
  }
 ],
 "metadata": {
  "kernelspec": {
   "display_name": "Python 3",
   "language": "python",
   "name": "python3"
  },
  "language_info": {
   "codemirror_mode": {
    "name": "ipython",
    "version": 3
   },
   "file_extension": ".py",
   "mimetype": "text/x-python",
   "name": "python",
   "nbconvert_exporter": "python",
   "pygments_lexer": "ipython3",
   "version": "3.11.9"
  }
 },
 "nbformat": 4,
 "nbformat_minor": 2
}
