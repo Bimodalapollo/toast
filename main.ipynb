{
 "cells": [
  {
   "cell_type": "code",
   "execution_count": null,
   "metadata": {},
   "outputs": [],
   "source": [
    "import glob as g\n",
    "\n",
    "# Get all the files in the current directory\n",
    "files = g.glob(\"inputs/*/*\")"
   ]
  },
  {
   "cell_type": "code",
   "execution_count": 3,
   "metadata": {},
   "outputs": [
    {
     "data": {
      "text/plain": [
       "['inputs\\\\Anatomy🫁',\n",
       " 'inputs\\\\Cardiovascular🫀',\n",
       " 'inputs\\\\Cells & Tissues🧫',\n",
       " 'inputs\\\\Gastrointestinal & Liver💩',\n",
       " 'inputs\\\\Immunology 💉',\n",
       " 'inputs\\\\Principles of Pharmacology👩\\u200d⚕️',\n",
       " 'inputs\\\\Reproductive System 🍆']"
      ]
     },
     "execution_count": 3,
     "metadata": {},
     "output_type": "execute_result"
    }
   ],
   "source": [
    "files"
   ]
  },
  {
   "cell_type": "code",
   "execution_count": null,
   "metadata": {},
   "outputs": [],
   "source": []
  }
 ],
 "metadata": {
  "kernelspec": {
   "display_name": "Python 3",
   "language": "python",
   "name": "python3"
  },
  "language_info": {
   "codemirror_mode": {
    "name": "ipython",
    "version": 3
   },
   "file_extension": ".py",
   "mimetype": "text/x-python",
   "name": "python",
   "nbconvert_exporter": "python",
   "pygments_lexer": "ipython3",
   "version": "3.11.9"
  }
 },
 "nbformat": 4,
 "nbformat_minor": 2
}
